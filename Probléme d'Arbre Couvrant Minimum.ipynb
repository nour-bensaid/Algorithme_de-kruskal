{
 "cells": [
  {
   "cell_type": "markdown",
   "id": "37ba6c58",
   "metadata": {},
   "source": [
    "### Représentation du graphe par des listes d'adjacences"
   ]
  },
  {
   "cell_type": "code",
   "execution_count": 1,
   "id": "e6353557",
   "metadata": {},
   "outputs": [],
   "source": [
    "data = {\n",
    "    'a': {'b': 4, 'h': 8},\n",
    "    'b': {'a': 4, 'h': 11, 'c': 8},\n",
    "    'c': {'b': 8, 'i': 2, 'd': 7, 'f': 4},\n",
    "    'd': {'c': 7, 'f': 14, 'e': 9},\n",
    "    'e': {'d': 9, 'f': 10},\n",
    "    'f': {'c': 4, 'd': 14, 'e': 10, 'g': 2},\n",
    "    'g': {'h': 1, 'f': 2, 'i': 6},\n",
    "    'h': {'a': 8, 'b': 11, 'i': 7, 'g': 1},\n",
    "    'i': {'c': 2, 'g': 6, 'h': 7}\n",
    "}"
   ]
  },
  {
   "cell_type": "markdown",
   "id": "b9c6424c",
   "metadata": {},
   "source": [
    "### Implementation de l'algorithme de KRUSKAL"
   ]
  },
  {
   "cell_type": "code",
   "execution_count": 2,
   "id": "5c9e2223",
   "metadata": {},
   "outputs": [],
   "source": [
    "class Kruskal:\n",
    "    # Finds the parent of the given node and returns it\n",
    "    def find(self, relations, graph, node):\n",
    "        # If node is not present in relations, add it\n",
    "        if node not in relations:\n",
    "            relations[node] = len(relations)\n",
    "            return relations[node]\n",
    "        \n",
    "        # Find the parent of the node\n",
    "        index = relations[node]\n",
    "        parent = graph[index]\n",
    "        while parent >= 0:\n",
    "            index = parent\n",
    "            parent = graph[index]\n",
    "            \n",
    "        return index\n",
    "    \n",
    "    # Perform union operation between the two given nodes\n",
    "    def union(self, relations, graph, src, dst):\n",
    "        node_src = self.find(relations, graph, src)\n",
    "        node_dst = self.find(relations, graph, dst)\n",
    "        \n",
    "        # Set parent of destination node as source node\n",
    "        graph[node_dst] = node_src\n",
    "    \n",
    "    # Check if there is a cycle in the graph if we add the given edge\n",
    "    def is_cycle(self, relations, graph, src, dst):\n",
    "        node_src = self.find(relations, graph, src)\n",
    "        node_dst = self.find(relations, graph, dst)\n",
    "        \n",
    "        # If the two nodes have the same parent, they are already in the same set, adding an edge would create a cycle\n",
    "        return node_src == node_dst\n",
    "    \n",
    "    # Function to find the minimum spanning tree of the graph\n",
    "    def kruskal(self):\n",
    "        relations = dict() # stores relation between nodes and their indices\n",
    "        mst = list() # stores the minimum spanning tree\n",
    "        edges = self.get_edges() # get all edges of the graph\n",
    "        num_of_nodes = self.get_number_of_nodes() # get the number of nodes in the graph\n",
    "        \n",
    "        graph = [-1 for _ in range(num_of_nodes + 1)] # initialize the graph with -1 values\n",
    "        \n",
    "        edges.sort(key = lambda tup: tup[2]) # sort the edges by their weight\n",
    "        \n",
    "        for edge in edges:\n",
    "            # If adding the edge does not create a cycle, add it to the minimum spanning tree and perform union operation\n",
    "            if not self.is_cycle(relations, graph, edge[0], edge[1]):\n",
    "                self.union(relations, graph, edge[0], edge[1])\n",
    "                mst.append(edge)\n",
    "        return mst  "
   ]
  },
  {
   "cell_type": "code",
   "execution_count": 3,
   "id": "b9bd0626",
   "metadata": {},
   "outputs": [],
   "source": [
    "class Graph(Kruskal):\n",
    "    # Constructor\n",
    "    def __init__(self, data):\n",
    "        super().__init__()\n",
    "        self.graph = data\n",
    "    \n",
    "    # Get all edges of the graph\n",
    "    def get_edges(self):\n",
    "        edges = list()\n",
    "        for node in self.graph:\n",
    "            for neighbour_node in self.graph[node]:\n",
    "                edges.append(tuple([node, neighbour_node, self.graph[node][neighbour_node]]))\n",
    "        return edges\n",
    "    \n",
    "    # Get the number of nodes in the graph\n",
    "    def get_number_of_nodes(self):\n",
    "        return len(self.graph)"
   ]
  },
  {
   "cell_type": "markdown",
   "id": "720a4671",
   "metadata": {},
   "source": [
    "### Arbre Couvrant Minimum de 'graph'"
   ]
  },
  {
   "cell_type": "code",
   "execution_count": 4,
   "id": "009b0d02",
   "metadata": {},
   "outputs": [
    {
     "name": "stdout",
     "output_type": "stream",
     "text": [
      "[('g', 'h', 1), ('c', 'i', 2), ('f', 'g', 2), ('a', 'b', 4), ('c', 'f', 4), ('c', 'd', 7), ('a', 'h', 8), ('d', 'e', 9)]\n"
     ]
    }
   ],
   "source": [
    "graph = Graph(data)\n",
    "arbre_couvrant = graph.kruskal()\n",
    "print(arbre_couvrant)"
   ]
  },
  {
   "cell_type": "code",
   "execution_count": 5,
   "id": "0efae386",
   "metadata": {},
   "outputs": [
    {
     "name": "stdout",
     "output_type": "stream",
     "text": [
      "le poids minimum de l'arbre couvrant est:  37\n"
     ]
    }
   ],
   "source": [
    "poids = 0\n",
    "for e in arbre_couvrant:\n",
    "    poids+=e[2]\n",
    "\n",
    "print(\"le poids minimum de l'arbre couvrant est: \",poids)"
   ]
  }
 ],
 "metadata": {
  "kernelspec": {
   "display_name": "Python 3 (ipykernel)",
   "language": "python",
   "name": "python3"
  },
  "language_info": {
   "codemirror_mode": {
    "name": "ipython",
    "version": 3
   },
   "file_extension": ".py",
   "mimetype": "text/x-python",
   "name": "python",
   "nbconvert_exporter": "python",
   "pygments_lexer": "ipython3",
   "version": "3.9.13"
  }
 },
 "nbformat": 4,
 "nbformat_minor": 5
}
